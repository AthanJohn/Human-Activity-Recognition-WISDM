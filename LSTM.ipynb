{
 "cells": [
  {
   "cell_type": "code",
   "execution_count": 1,
   "id": "5c129201",
   "metadata": {},
   "outputs": [],
   "source": [
    "#import libraries\n",
    "import os\n",
    "import numpy as np\n",
    "import pandas as pd\n",
    "import tensorflow as tf\n",
    "import keras\n",
    "import warnings\n",
    "from matplotlib import pyplot as plt\n",
    "import seaborn as sns\n",
    "\n",
    "from scipy import stats\n",
    "from sklearn import metrics\n",
    "from sklearn.preprocessing import OneHotEncoder, StandardScaler, LabelEncoder\n",
    "from sklearn.model_selection import train_test_split\n",
    "\n",
    "from keras.models import Sequential\n",
    "from keras.layers import Dense, Dropout, Flatten, Reshape, MaxPooling2D\n",
    "from keras.layers import Conv2D, MaxPooling2D\n",
    "%matplotlib inline\n",
    "warnings.simplefilter(action='ignore', category=FutureWarning)\n",
    "\n",
    "r_seed = 42\n",
    "np.random.seed(r_seed)\n",
    "tf.random.set_seed(r_seed)"
   ]
  },
  {
   "cell_type": "code",
   "execution_count": 2,
   "id": "daae4698",
   "metadata": {},
   "outputs": [],
   "source": [
    "columns=['user','activity','time','x','y','z']\n",
    "\n",
    "directory = r'E:\\Advanced Decision Making\\data\\wisdm-dataset\\raw'\n",
    "\n",
    "data_all = pd.DataFrame(data=None,columns=columns)\n",
    "             \n",
    "for dir1 in os.listdir(directory):\n",
    "    directory1 = os.path.join(directory,dir1)\n",
    "    \n",
    "    for dir2 in os.listdir(directory1):\n",
    "        directory2 = os.path.join(directory1,dir2)\n",
    "        \n",
    "        for filename in os.listdir(directory2):\n",
    "            f = os.path.join(directory2,filename)\n",
    "            df = pd.read_csv(f, sep=',',header=None)  \n",
    "            temp=pd.DataFrame(data=df.values, columns=columns)\n",
    "            data_all=pd.concat([data_all,temp])"
   ]
  },
  {
   "cell_type": "code",
   "execution_count": 3,
   "id": "2b2e3fde",
   "metadata": {},
   "outputs": [],
   "source": [
    "data_all['z'] = data_all['z'].str.replace(';','')\n",
    "data_all['activity'].value_counts()\n",
    "data_all['x']=data_all['x'].astype('float')\n",
    "data_all['y']=data_all['y'].astype('float')\n",
    "data_all['z']=data_all['z'].astype('float')\n"
   ]
  },
  {
   "cell_type": "code",
   "execution_count": 4,
   "id": "926e6200",
   "metadata": {},
   "outputs": [
    {
     "name": "stdout",
     "output_type": "stream",
     "text": [
      "<class 'pandas.core.frame.DataFrame'>\n",
      "Int64Index: 15630426 entries, 0 to 66555\n",
      "Data columns (total 6 columns):\n",
      " #   Column    Dtype  \n",
      "---  ------    -----  \n",
      " 0   user      object \n",
      " 1   activity  object \n",
      " 2   time      object \n",
      " 3   x         float64\n",
      " 4   y         float64\n",
      " 5   z         float64\n",
      "dtypes: float64(3), object(3)\n",
      "memory usage: 834.8+ MB\n"
     ]
    }
   ],
   "source": [
    "data_all.info()"
   ]
  },
  {
   "cell_type": "code",
   "execution_count": 5,
   "id": "54df5405",
   "metadata": {},
   "outputs": [],
   "source": [
    "activities = data_all['activity'].value_counts().index\n",
    "data_all = data_all.drop(['user', 'time'], axis=1)\n",
    "\n",
    "df_a = data_all[data_all['activity']=='A'].head(174604)\n",
    "df_m = data_all[data_all['activity']=='M'].head(174604)\n",
    "df_k = data_all[data_all['activity']=='K'].head(174604)\n",
    "df_p = data_all[data_all['activity']=='P'].head(174604)\n",
    "df_e = data_all[data_all['activity']=='E'].head(174604)\n",
    "df_o = data_all[data_all['activity']=='O'].head(174604)\n",
    "df_c = data_all[data_all['activity']=='C'].head(174604)\n",
    "df_d = data_all[data_all['activity']=='D'].head(174604)\n",
    "df_l = data_all[data_all['activity']=='L'].head(174604)\n",
    "df_b = data_all[data_all['activity']=='B'].head(174604)\n",
    "df_h = data_all[data_all['activity']=='H'].head(174604)\n",
    "df_f = data_all[data_all['activity']=='F'].head(174604)\n",
    "df_g = data_all[data_all['activity']=='G'].head(174604)\n",
    "df_q = data_all[data_all['activity']=='Q'].head(174604)\n",
    "df_r = data_all[data_all['activity']=='R'].head(174604)\n",
    "df_s = data_all[data_all['activity']=='S'].head(174604)\n",
    "df_i = data_all[data_all['activity']=='I'].head(174604)\n",
    "df_j = data_all[data_all['activity']=='J'].head(174604)\n",
    "\n",
    "balanced_data = pd.DataFrame()\n",
    "balanced_data = balanced_data.append([df_a,df_m,df_k,df_p,df_e,df_o,df_c,df_d,df_l,df_b,df_h,df_f,df_g,df_q,df_r,df_s,df_i,df_j]) \n"
   ]
  },
  {
   "cell_type": "code",
   "execution_count": 6,
   "id": "0066eec8",
   "metadata": {},
   "outputs": [],
   "source": [
    "balanced_data['label'] = LabelEncoder().fit_transform(balanced_data['activity']) \n",
    "\n",
    "x = balanced_data[['x','y','z']]\n",
    "y = balanced_data['label']\n",
    "x = StandardScaler().fit_transform(x)\n",
    "\n",
    "scaled_x = pd.DataFrame(data=x, columns=['x','y','z'])\n",
    "scaled_x['label'] = y.values"
   ]
  },
  {
   "cell_type": "code",
   "execution_count": 7,
   "id": "defa4dfd",
   "metadata": {},
   "outputs": [],
   "source": [
    "def get_frames(df, frame_size, hop_size):\n",
    "    \n",
    "    N_FEATURES = 3\n",
    "    frames = []\n",
    "    labels = []\n",
    "    for i in range(0,len(df)- frame_size, hop_size):\n",
    "        x = df['x'].values[i: i+frame_size]\n",
    "        y = df['y'].values[i: i+frame_size]\n",
    "        z = df['z'].values[i: i+frame_size]\n",
    "        \n",
    "        label = stats.mode(df['label'][i: i+frame_size])[0][0]\n",
    "        frames.append([x,y,z])\n",
    "        labels.append(label)\n",
    "        \n",
    "    frames = np.asarray(frames).reshape(-1, frame_size, N_FEATURES)\n",
    "    labels = np.asarray(labels).reshape(-1,1)\n",
    "    \n",
    "    return frames, labels"
   ]
  },
  {
   "cell_type": "code",
   "execution_count": 8,
   "id": "4b88a6d1",
   "metadata": {},
   "outputs": [],
   "source": [
    "Fs=20\n",
    "frame_size = Fs*4\n",
    "hop_size = Fs*2\n",
    "\n",
    "x,y = get_frames(scaled_x, frame_size, hop_size)"
   ]
  },
  {
   "cell_type": "code",
   "execution_count": 9,
   "id": "45f7b8e5",
   "metadata": {},
   "outputs": [],
   "source": [
    "X_tr, X_te, Y_tr, Y_te = train_test_split(x,y,test_size=0.20, random_state = r_seed, stratify = y)\n",
    "\n",
    "X_tr_samples = X_tr.shape[0]\n",
    "X_te_samples = X_te.shape[0]\n",
    "\n",
    "X_tr = X_tr.reshape(X_tr_samples, 80, 3,1)\n",
    "X_te = X_te.reshape(X_te_samples, 80, 3,1)"
   ]
  },
  {
   "cell_type": "code",
   "execution_count": 10,
   "id": "c435574e",
   "metadata": {},
   "outputs": [],
   "source": [
    "hotenc=OneHotEncoder(handle_unknown='ignore', sparse=False)\n",
    "hotenc= hotenc.fit(Y_tr)\n",
    "Y_tr = hotenc.transform(Y_tr)\n",
    "Y_te = hotenc.transform(Y_te)"
   ]
  },
  {
   "cell_type": "code",
   "execution_count": 11,
   "id": "e1356288",
   "metadata": {
    "scrolled": true
   },
   "outputs": [
    {
     "name": "stdout",
     "output_type": "stream",
     "text": [
      "Model: \"sequential\"\n",
      "_________________________________________________________________\n",
      " Layer (type)                Output Shape              Param #   \n",
      "=================================================================\n",
      " lstm (LSTM)                 (None, 256)               266240    \n",
      "                                                                 \n",
      " dropout (Dropout)           (None, 256)               0         \n",
      "                                                                 \n",
      " dense (Dense)               (None, 256)               65792     \n",
      "                                                                 \n",
      " dropout_1 (Dropout)         (None, 256)               0         \n",
      "                                                                 \n",
      " dense_1 (Dense)             (None, 18)                4626      \n",
      "                                                                 \n",
      "=================================================================\n",
      "Total params: 336,658\n",
      "Trainable params: 336,658\n",
      "Non-trainable params: 0\n",
      "_________________________________________________________________\n",
      "None\n"
     ]
    }
   ],
   "source": [
    "## LSTM\n",
    "model = keras.Sequential()\n",
    "model.add(keras.layers.LSTM(units=256,input_shape=[X_tr.shape[1], X_tr.shape[2]]))\n",
    "model.add(keras.layers.Dropout(rate=0.3))\n",
    "model.add(Dense(256, activation = 'relu'))\n",
    "model.add(Dropout(0.2))\n",
    "model.add(keras.layers.Dense(Y_tr.shape[1], activation='softmax'))\n",
    "model.compile(loss='categorical_crossentropy', optimizer='adam', metrics=['acc'])\n",
    "print(model.summary())\n"
   ]
  },
  {
   "cell_type": "code",
   "execution_count": 12,
   "id": "ec8a3b3c",
   "metadata": {
    "scrolled": true
   },
   "outputs": [
    {
     "name": "stdout",
     "output_type": "stream",
     "text": [
      "Epoch 1/25\n",
      "1965/1965 [==============================] - 20s 9ms/step - loss: 2.2535 - acc: 0.2162 - val_loss: 1.9878 - val_acc: 0.2911\n",
      "Epoch 2/25\n",
      "1965/1965 [==============================] - 19s 10ms/step - loss: 1.8700 - acc: 0.3377 - val_loss: 1.6800 - val_acc: 0.4113\n",
      "Epoch 3/25\n",
      "1965/1965 [==============================] - 19s 10ms/step - loss: 1.5456 - acc: 0.4584 - val_loss: 1.3917 - val_acc: 0.5158\n",
      "Epoch 4/25\n",
      "1965/1965 [==============================] - 19s 10ms/step - loss: 1.2647 - acc: 0.5576 - val_loss: 1.1192 - val_acc: 0.6138\n",
      "Epoch 5/25\n",
      "1965/1965 [==============================] - 19s 10ms/step - loss: 1.0624 - acc: 0.6325 - val_loss: 0.9052 - val_acc: 0.6947\n",
      "Epoch 6/25\n",
      "1965/1965 [==============================] - 18s 9ms/step - loss: 0.9342 - acc: 0.6795 - val_loss: 0.8504 - val_acc: 0.7062\n",
      "Epoch 7/25\n",
      "1965/1965 [==============================] - 19s 9ms/step - loss: 0.8452 - acc: 0.7102 - val_loss: 0.7621 - val_acc: 0.7396\n",
      "Epoch 8/25\n",
      "1965/1965 [==============================] - 19s 10ms/step - loss: 0.7766 - acc: 0.7336 - val_loss: 0.7448 - val_acc: 0.7502\n",
      "Epoch 9/25\n",
      "1965/1965 [==============================] - 19s 10ms/step - loss: 0.7256 - acc: 0.7515 - val_loss: 0.7223 - val_acc: 0.7610\n",
      "Epoch 10/25\n",
      "1965/1965 [==============================] - 19s 10ms/step - loss: 0.6935 - acc: 0.7635 - val_loss: 0.6526 - val_acc: 0.7801\n",
      "Epoch 11/25\n",
      "1965/1965 [==============================] - 19s 10ms/step - loss: 0.6559 - acc: 0.7769 - val_loss: 0.6322 - val_acc: 0.7852\n",
      "Epoch 12/25\n",
      "1965/1965 [==============================] - 19s 10ms/step - loss: 0.6190 - acc: 0.7877 - val_loss: 0.6323 - val_acc: 0.7859\n",
      "Epoch 13/25\n",
      "1965/1965 [==============================] - 18s 9ms/step - loss: 0.5875 - acc: 0.7975 - val_loss: 0.6129 - val_acc: 0.7906\n",
      "Epoch 14/25\n",
      "1965/1965 [==============================] - 18s 9ms/step - loss: 0.5675 - acc: 0.8064 - val_loss: 0.6028 - val_acc: 0.7985\n",
      "Epoch 15/25\n",
      "1965/1965 [==============================] - 19s 10ms/step - loss: 0.5455 - acc: 0.8122 - val_loss: 0.5899 - val_acc: 0.8083\n",
      "Epoch 16/25\n",
      "1965/1965 [==============================] - 19s 10ms/step - loss: 0.5274 - acc: 0.8188 - val_loss: 0.6037 - val_acc: 0.7985\n",
      "Epoch 17/25\n",
      "1965/1965 [==============================] - 19s 9ms/step - loss: 0.5132 - acc: 0.8247 - val_loss: 0.5549 - val_acc: 0.8212\n",
      "Epoch 18/25\n",
      "1965/1965 [==============================] - 19s 10ms/step - loss: 0.4910 - acc: 0.8311 - val_loss: 0.5429 - val_acc: 0.8217\n",
      "Epoch 19/25\n",
      "1965/1965 [==============================] - 19s 10ms/step - loss: 0.4737 - acc: 0.8364 - val_loss: 0.5360 - val_acc: 0.8254\n",
      "Epoch 20/25\n",
      "1965/1965 [==============================] - 19s 10ms/step - loss: 0.4614 - acc: 0.8404 - val_loss: 0.5144 - val_acc: 0.8333\n",
      "Epoch 21/25\n",
      "1965/1965 [==============================] - 19s 10ms/step - loss: 0.4471 - acc: 0.8453 - val_loss: 0.5393 - val_acc: 0.8285\n",
      "Epoch 22/25\n",
      "1965/1965 [==============================] - 19s 10ms/step - loss: 0.4381 - acc: 0.8489 - val_loss: 0.5414 - val_acc: 0.8252\n",
      "Epoch 23/25\n",
      "1965/1965 [==============================] - 19s 10ms/step - loss: 0.4188 - acc: 0.8541 - val_loss: 0.5050 - val_acc: 0.8309\n",
      "Epoch 24/25\n",
      "1965/1965 [==============================] - 19s 10ms/step - loss: 0.4153 - acc: 0.8566 - val_loss: 0.5067 - val_acc: 0.8361\n",
      "Epoch 25/25\n",
      "1965/1965 [==============================] - 19s 10ms/step - loss: 0.4026 - acc: 0.8604 - val_loss: 0.5568 - val_acc: 0.8263\n"
     ]
    }
   ],
   "source": [
    "history = model.fit(X_tr, Y_tr, epochs = 25, validation_data=(X_te, Y_te), verbose=1 )"
   ]
  },
  {
   "cell_type": "code",
   "execution_count": 19,
   "id": "5e0c2397",
   "metadata": {},
   "outputs": [
    {
     "data": {
      "text/plain": [
       "<matplotlib.legend.Legend at 0x2bd420efa60>"
      ]
     },
     "execution_count": 19,
     "metadata": {},
     "output_type": "execute_result"
    },
    {
     "data": {
      "image/png": "[encoded data removed]",
      "text/plain": [
       "<Figure size 936x576 with 1 Axes>"
      ]
     },
     "metadata": {
      "needs_background": "light"
     },
     "output_type": "display_data"
    }
   ],
   "source": [
    "plt.figure(figsize=(13, 8))\n",
    "plt.plot(history.history['loss'], label='train_loss',color='blue')\n",
    "plt.plot(history.history['val_loss'], label='validation_loss',color='orange')\n",
    "plt.plot(history.history['acc'], label='train_acc',color='green')\n",
    "plt.plot(history.history['val_acc'], label='validation_acc',color='purple')\n",
    "plt.title('Long Short-Term Memory')\n",
    "\n",
    "plt.legend()"
   ]
  },
  {
   "cell_type": "code",
   "execution_count": 22,
   "id": "67256d14",
   "metadata": {},
   "outputs": [
    {
     "ename": "AttributeError",
     "evalue": "'bool' object has no attribute 'all'",
     "output_type": "error",
     "traceback": [
      "\u001b[1;31m---------------------------------------------------------------------------\u001b[0m",
      "\u001b[1;31mAttributeError\u001b[0m                            Traceback (most recent call last)",
      "\u001b[1;32m~\\AppData\\Local\\Temp/ipykernel_23640/4195798791.py\u001b[0m in \u001b[0;36m<module>\u001b[1;34m\u001b[0m\n\u001b[0;32m      2\u001b[0m \u001b[0my_label\u001b[0m\u001b[1;33m=\u001b[0m\u001b[0mrange\u001b[0m\u001b[1;33m(\u001b[0m\u001b[1;36m0\u001b[0m\u001b[1;33m,\u001b[0m\u001b[1;36m100\u001b[0m\u001b[1;33m)\u001b[0m\u001b[1;33m\u001b[0m\u001b[1;33m\u001b[0m\u001b[0m\n\u001b[0;32m      3\u001b[0m \u001b[1;33m\u001b[0m\u001b[0m\n\u001b[1;32m----> 4\u001b[1;33m \u001b[0msns\u001b[0m\u001b[1;33m.\u001b[0m\u001b[0mbarplot\u001b[0m\u001b[1;33m(\u001b[0m\u001b[0mx\u001b[0m \u001b[1;33m=\u001b[0m \u001b[0mx_label\u001b[0m\u001b[1;33m,\u001b[0m \u001b[0my\u001b[0m \u001b[1;33m=\u001b[0m \u001b[0my_label\u001b[0m\u001b[1;33m,\u001b[0m \u001b[0mci\u001b[0m \u001b[1;33m=\u001b[0m \u001b[1;32mNone\u001b[0m\u001b[1;33m)\u001b[0m\u001b[1;33m\u001b[0m\u001b[1;33m\u001b[0m\u001b[0m\n\u001b[0m\u001b[0;32m      5\u001b[0m \u001b[0mplt\u001b[0m\u001b[1;33m.\u001b[0m\u001b[0mshow\u001b[0m\u001b[1;33m(\u001b[0m\u001b[1;33m)\u001b[0m\u001b[1;33m\u001b[0m\u001b[1;33m\u001b[0m\u001b[0m\n",
      "\u001b[1;32m~\\anaconda3\\lib\\site-packages\\seaborn\\_decorators.py\u001b[0m in \u001b[0;36minner_f\u001b[1;34m(*args, **kwargs)\u001b[0m\n\u001b[0;32m     44\u001b[0m             )\n\u001b[0;32m     45\u001b[0m         \u001b[0mkwargs\u001b[0m\u001b[1;33m.\u001b[0m\u001b[0mupdate\u001b[0m\u001b[1;33m(\u001b[0m\u001b[1;33m{\u001b[0m\u001b[0mk\u001b[0m\u001b[1;33m:\u001b[0m \u001b[0marg\u001b[0m \u001b[1;32mfor\u001b[0m \u001b[0mk\u001b[0m\u001b[1;33m,\u001b[0m \u001b[0marg\u001b[0m \u001b[1;32min\u001b[0m \u001b[0mzip\u001b[0m\u001b[1;33m(\u001b[0m\u001b[0msig\u001b[0m\u001b[1;33m.\u001b[0m\u001b[0mparameters\u001b[0m\u001b[1;33m,\u001b[0m \u001b[0margs\u001b[0m\u001b[1;33m)\u001b[0m\u001b[1;33m}\u001b[0m\u001b[1;33m)\u001b[0m\u001b[1;33m\u001b[0m\u001b[1;33m\u001b[0m\u001b[0m\n\u001b[1;32m---> 46\u001b[1;33m         \u001b[1;32mreturn\u001b[0m \u001b[0mf\u001b[0m\u001b[1;33m(\u001b[0m\u001b[1;33m**\u001b[0m\u001b[0mkwargs\u001b[0m\u001b[1;33m)\u001b[0m\u001b[1;33m\u001b[0m\u001b[1;33m\u001b[0m\u001b[0m\n\u001b[0m\u001b[0;32m     47\u001b[0m     \u001b[1;32mreturn\u001b[0m \u001b[0minner_f\u001b[0m\u001b[1;33m\u001b[0m\u001b[1;33m\u001b[0m\u001b[0m\n\u001b[0;32m     48\u001b[0m \u001b[1;33m\u001b[0m\u001b[0m\n",
      "\u001b[1;32m~\\anaconda3\\lib\\site-packages\\seaborn\\categorical.py\u001b[0m in \u001b[0;36mbarplot\u001b[1;34m(x, y, hue, data, order, hue_order, estimator, ci, n_boot, units, seed, orient, color, palette, saturation, errcolor, errwidth, capsize, dodge, ax, **kwargs)\u001b[0m\n\u001b[0;32m   3180\u001b[0m ):\n\u001b[0;32m   3181\u001b[0m \u001b[1;33m\u001b[0m\u001b[0m\n\u001b[1;32m-> 3182\u001b[1;33m     plotter = _BarPlotter(x, y, hue, data, order, hue_order,\n\u001b[0m\u001b[0;32m   3183\u001b[0m                           \u001b[0mestimator\u001b[0m\u001b[1;33m,\u001b[0m \u001b[0mci\u001b[0m\u001b[1;33m,\u001b[0m \u001b[0mn_boot\u001b[0m\u001b[1;33m,\u001b[0m \u001b[0munits\u001b[0m\u001b[1;33m,\u001b[0m \u001b[0mseed\u001b[0m\u001b[1;33m,\u001b[0m\u001b[1;33m\u001b[0m\u001b[1;33m\u001b[0m\u001b[0m\n\u001b[0;32m   3184\u001b[0m                           \u001b[0morient\u001b[0m\u001b[1;33m,\u001b[0m \u001b[0mcolor\u001b[0m\u001b[1;33m,\u001b[0m \u001b[0mpalette\u001b[0m\u001b[1;33m,\u001b[0m \u001b[0msaturation\u001b[0m\u001b[1;33m,\u001b[0m\u001b[1;33m\u001b[0m\u001b[1;33m\u001b[0m\u001b[0m\n",
      "\u001b[1;32m~\\anaconda3\\lib\\site-packages\\seaborn\\categorical.py\u001b[0m in \u001b[0;36m__init__\u001b[1;34m(self, x, y, hue, data, order, hue_order, estimator, ci, n_boot, units, seed, orient, color, palette, saturation, errcolor, errwidth, capsize, dodge)\u001b[0m\n\u001b[0;32m   1582\u001b[0m                  errwidth, capsize, dodge):\n\u001b[0;32m   1583\u001b[0m         \u001b[1;34m\"\"\"Initialize the plotter.\"\"\"\u001b[0m\u001b[1;33m\u001b[0m\u001b[1;33m\u001b[0m\u001b[0m\n\u001b[1;32m-> 1584\u001b[1;33m         self.establish_variables(x, y, hue, data, orient,\n\u001b[0m\u001b[0;32m   1585\u001b[0m                                  order, hue_order, units)\n\u001b[0;32m   1586\u001b[0m         \u001b[0mself\u001b[0m\u001b[1;33m.\u001b[0m\u001b[0mestablish_colors\u001b[0m\u001b[1;33m(\u001b[0m\u001b[0mcolor\u001b[0m\u001b[1;33m,\u001b[0m \u001b[0mpalette\u001b[0m\u001b[1;33m,\u001b[0m \u001b[0msaturation\u001b[0m\u001b[1;33m)\u001b[0m\u001b[1;33m\u001b[0m\u001b[1;33m\u001b[0m\u001b[0m\n",
      "\u001b[1;32m~\\anaconda3\\lib\\site-packages\\seaborn\\categorical.py\u001b[0m in \u001b[0;36mestablish_variables\u001b[1;34m(self, x, y, hue, data, orient, order, hue_order, units)\u001b[0m\n\u001b[0;32m    154\u001b[0m \u001b[1;33m\u001b[0m\u001b[0m\n\u001b[0;32m    155\u001b[0m             \u001b[1;31m# Figure out the plotting orientation\u001b[0m\u001b[1;33m\u001b[0m\u001b[1;33m\u001b[0m\u001b[0m\n\u001b[1;32m--> 156\u001b[1;33m             orient = infer_orient(\n\u001b[0m\u001b[0;32m    157\u001b[0m                 \u001b[0mx\u001b[0m\u001b[1;33m,\u001b[0m \u001b[0my\u001b[0m\u001b[1;33m,\u001b[0m \u001b[0morient\u001b[0m\u001b[1;33m,\u001b[0m \u001b[0mrequire_numeric\u001b[0m\u001b[1;33m=\u001b[0m\u001b[0mself\u001b[0m\u001b[1;33m.\u001b[0m\u001b[0mrequire_numeric\u001b[0m\u001b[1;33m\u001b[0m\u001b[1;33m\u001b[0m\u001b[0m\n\u001b[0;32m    158\u001b[0m             )\n",
      "\u001b[1;32m~\\anaconda3\\lib\\site-packages\\seaborn\\_core.py\u001b[0m in \u001b[0;36minfer_orient\u001b[1;34m(x, y, orient, require_numeric)\u001b[0m\n\u001b[0;32m   1310\u001b[0m \u001b[1;33m\u001b[0m\u001b[0m\n\u001b[0;32m   1311\u001b[0m     \u001b[0mx_type\u001b[0m \u001b[1;33m=\u001b[0m \u001b[1;32mNone\u001b[0m \u001b[1;32mif\u001b[0m \u001b[0mx\u001b[0m \u001b[1;32mis\u001b[0m \u001b[1;32mNone\u001b[0m \u001b[1;32melse\u001b[0m \u001b[0mvariable_type\u001b[0m\u001b[1;33m(\u001b[0m\u001b[0mx\u001b[0m\u001b[1;33m)\u001b[0m\u001b[1;33m\u001b[0m\u001b[1;33m\u001b[0m\u001b[0m\n\u001b[1;32m-> 1312\u001b[1;33m     \u001b[0my_type\u001b[0m \u001b[1;33m=\u001b[0m \u001b[1;32mNone\u001b[0m \u001b[1;32mif\u001b[0m \u001b[0my\u001b[0m \u001b[1;32mis\u001b[0m \u001b[1;32mNone\u001b[0m \u001b[1;32melse\u001b[0m \u001b[0mvariable_type\u001b[0m\u001b[1;33m(\u001b[0m\u001b[0my\u001b[0m\u001b[1;33m)\u001b[0m\u001b[1;33m\u001b[0m\u001b[1;33m\u001b[0m\u001b[0m\n\u001b[0m\u001b[0;32m   1313\u001b[0m \u001b[1;33m\u001b[0m\u001b[0m\n\u001b[0;32m   1314\u001b[0m     \u001b[0mnonnumeric_dv_error\u001b[0m \u001b[1;33m=\u001b[0m \u001b[1;34m\"{} orientation requires numeric `{}` variable.\"\u001b[0m\u001b[1;33m\u001b[0m\u001b[1;33m\u001b[0m\u001b[0m\n",
      "\u001b[1;32m~\\anaconda3\\lib\\site-packages\\seaborn\\_core.py\u001b[0m in \u001b[0;36mvariable_type\u001b[1;34m(vector, boolean_type)\u001b[0m\n\u001b[0;32m   1227\u001b[0m \u001b[1;33m\u001b[0m\u001b[0m\n\u001b[0;32m   1228\u001b[0m     \u001b[1;31m# Special-case all-na data, which is always \"numeric\"\u001b[0m\u001b[1;33m\u001b[0m\u001b[1;33m\u001b[0m\u001b[0m\n\u001b[1;32m-> 1229\u001b[1;33m     \u001b[1;32mif\u001b[0m \u001b[0mpd\u001b[0m\u001b[1;33m.\u001b[0m\u001b[0misna\u001b[0m\u001b[1;33m(\u001b[0m\u001b[0mvector\u001b[0m\u001b[1;33m)\u001b[0m\u001b[1;33m.\u001b[0m\u001b[0mall\u001b[0m\u001b[1;33m(\u001b[0m\u001b[1;33m)\u001b[0m\u001b[1;33m:\u001b[0m\u001b[1;33m\u001b[0m\u001b[1;33m\u001b[0m\u001b[0m\n\u001b[0m\u001b[0;32m   1230\u001b[0m         \u001b[1;32mreturn\u001b[0m \u001b[1;34m\"numeric\"\u001b[0m\u001b[1;33m\u001b[0m\u001b[1;33m\u001b[0m\u001b[0m\n\u001b[0;32m   1231\u001b[0m \u001b[1;33m\u001b[0m\u001b[0m\n",
      "\u001b[1;31mAttributeError\u001b[0m: 'bool' object has no attribute 'all'"
     ]
    }
   ],
   "source": [
    "x_label=[\"LSTM\",\"CNN\"]\n",
    "y_label=range(0,100)\n",
    "\n",
    "sns.barplot(x = x_label, y = y_label, ci = None)\n",
    "plt.show()"
   ]
  },
  {
   "cell_type": "code",
   "execution_count": null,
   "id": "be63e035",
   "metadata": {},
   "outputs": [],
   "source": []
  }
 ],
 "metadata": {
  "kernelspec": {
   "display_name": "Python 3 (ipykernel)",
   "language": "python",
   "name": "python3"
  },
  "language_info": {
   "codemirror_mode": {
    "name": "ipython",
    "version": 3
   },
   "file_extension": ".py",
   "mimetype": "text/x-python",
   "name": "python",
   "nbconvert_exporter": "python",
   "pygments_lexer": "ipython3",
   "version": "3.9.7"
  }
 },
 "nbformat": 4,
 "nbformat_minor": 5
}
