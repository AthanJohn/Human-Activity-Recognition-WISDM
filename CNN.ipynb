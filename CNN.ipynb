{
 "cells": [
  {
   "cell_type": "code",
   "execution_count": 1,
   "id": "5c129201",
   "metadata": {},
   "outputs": [],
   "source": [
    "#import libraries\n",
    "import os\n",
    "import numpy as np\n",
    "import pandas as pd\n",
    "import tensorflow as tf\n",
    "import keras\n",
    "import warnings\n",
    "from matplotlib import pyplot as plt\n",
    "import seaborn as sns\n",
    "\n",
    "from scipy import stats\n",
    "from sklearn import metrics\n",
    "from sklearn.preprocessing import OneHotEncoder, StandardScaler, LabelEncoder\n",
    "from sklearn.model_selection import train_test_split\n",
    "\n",
    "from keras.models import Sequential\n",
    "from keras.layers import Dense, Dropout, Flatten, Reshape, MaxPooling2D\n",
    "from keras.layers import Conv2D, MaxPooling2D\n",
    "%matplotlib inline\n",
    "warnings.simplefilter(action='ignore', category=FutureWarning)\n",
    "\n",
    "r_seed = 42\n",
    "np.random.seed(r_seed)\n",
    "tf.random.set_seed(r_seed)"
   ]
  },
  {
   "cell_type": "code",
   "execution_count": 2,
   "id": "675f2862",
   "metadata": {},
   "outputs": [],
   "source": [
    "columns=['user','activity','time','x','y','z']\n",
    "\n",
    "directory = r'E:\\Advanced Decision Making\\data\\wisdm-dataset\\raw'\n",
    "\n",
    "data_all = pd.DataFrame(data=None,columns=columns)\n",
    "             \n",
    "for dir1 in os.listdir(directory):\n",
    "    directory1 = os.path.join(directory,dir1)\n",
    "    \n",
    "    for dir2 in os.listdir(directory1):\n",
    "        directory2 = os.path.join(directory1,dir2)\n",
    "        \n",
    "        for filename in os.listdir(directory2):\n",
    "            f = os.path.join(directory2,filename)\n",
    "            df = pd.read_csv(f, sep=',',header=None)  \n",
    "            temp=pd.DataFrame(data=df.values, columns=columns)\n",
    "            data_all=pd.concat([data_all,temp])"
   ]
  },
  {
   "cell_type": "code",
   "execution_count": 3,
   "id": "58bc54f9",
   "metadata": {},
   "outputs": [],
   "source": [
    "data_all['z'] = data_all['z'].str.replace(';','')\n",
    "data_all['activity'].value_counts()\n",
    "data_all['x']=data_all['x'].astype('float')\n",
    "data_all['y']=data_all['y'].astype('float')\n",
    "data_all['z']=data_all['z'].astype('float')\n"
   ]
  },
  {
   "cell_type": "code",
   "execution_count": 4,
   "id": "1c9a2b6e",
   "metadata": {},
   "outputs": [
    {
     "name": "stdout",
     "output_type": "stream",
     "text": [
      "<class 'pandas.core.frame.DataFrame'>\n",
      "Int64Index: 15630426 entries, 0 to 66555\n",
      "Data columns (total 6 columns):\n",
      " #   Column    Dtype  \n",
      "---  ------    -----  \n",
      " 0   user      object \n",
      " 1   activity  object \n",
      " 2   time      object \n",
      " 3   x         float64\n",
      " 4   y         float64\n",
      " 5   z         float64\n",
      "dtypes: float64(3), object(3)\n",
      "memory usage: 834.8+ MB\n"
     ]
    }
   ],
   "source": [
    "data_all.info()"
   ]
  },
  {
   "cell_type": "code",
   "execution_count": 5,
   "id": "5269b41e",
   "metadata": {},
   "outputs": [],
   "source": [
    "activities = data_all['activity'].value_counts().index\n",
    "data_all = data_all.drop(['user', 'time'], axis=1)\n",
    "\n",
    "df_a = data_all[data_all['activity']=='A'].head(174604)\n",
    "df_m = data_all[data_all['activity']=='M'].head(174604)\n",
    "df_k = data_all[data_all['activity']=='K'].head(174604)\n",
    "df_p = data_all[data_all['activity']=='P'].head(174604)\n",
    "df_e = data_all[data_all['activity']=='E'].head(174604)\n",
    "df_o = data_all[data_all['activity']=='O'].head(174604)\n",
    "df_c = data_all[data_all['activity']=='C'].head(174604)\n",
    "df_d = data_all[data_all['activity']=='D'].head(174604)\n",
    "df_l = data_all[data_all['activity']=='L'].head(174604)\n",
    "df_b = data_all[data_all['activity']=='B'].head(174604)\n",
    "df_h = data_all[data_all['activity']=='H'].head(174604)\n",
    "df_f = data_all[data_all['activity']=='F'].head(174604)\n",
    "df_g = data_all[data_all['activity']=='G'].head(174604)\n",
    "df_q = data_all[data_all['activity']=='Q'].head(174604)\n",
    "df_r = data_all[data_all['activity']=='R'].head(174604)\n",
    "df_s = data_all[data_all['activity']=='S'].head(174604)\n",
    "df_i = data_all[data_all['activity']=='I'].head(174604)\n",
    "df_j = data_all[data_all['activity']=='J'].head(174604)\n",
    "\n",
    "balanced_data = pd.DataFrame()\n",
    "balanced_data = balanced_data.append([df_a,df_m,df_k,df_p,df_e,df_o,df_c,df_d,df_l,df_b,df_h,df_f,df_g,df_q,df_r,df_s,df_i,df_j]) \n"
   ]
  },
  {
   "cell_type": "code",
   "execution_count": 6,
   "id": "282352d6",
   "metadata": {},
   "outputs": [],
   "source": [
    "balanced_data['label'] = LabelEncoder().fit_transform(balanced_data['activity']) \n",
    "\n",
    "x = balanced_data[['x','y','z']]\n",
    "y = balanced_data['label']\n",
    "x = StandardScaler().fit_transform(x)\n",
    "\n",
    "scaled_x = pd.DataFrame(data=x, columns=['x','y','z'])\n",
    "scaled_x['label'] = y.values"
   ]
  },
  {
   "cell_type": "code",
   "execution_count": 7,
   "id": "146de99f",
   "metadata": {},
   "outputs": [],
   "source": [
    "def get_frames(df, frame_size, hop_size):\n",
    "    \n",
    "    N_FEATURES = 3\n",
    "    frames = []\n",
    "    labels = []\n",
    "    for i in range(0,len(df)- frame_size, hop_size):\n",
    "        x = df['x'].values[i: i+frame_size]\n",
    "        y = df['y'].values[i: i+frame_size]\n",
    "        z = df['z'].values[i: i+frame_size]\n",
    "        \n",
    "        label = stats.mode(df['label'][i: i+frame_size])[0][0]\n",
    "        frames.append([x,y,z])\n",
    "        labels.append(label)\n",
    "        \n",
    "    frames = np.asarray(frames).reshape(-1, frame_size, N_FEATURES)\n",
    "    labels = np.asarray(labels).reshape(-1,1)\n",
    "    \n",
    "    return frames, labels"
   ]
  },
  {
   "cell_type": "code",
   "execution_count": 8,
   "id": "aa05c663",
   "metadata": {},
   "outputs": [],
   "source": [
    "Fs=20\n",
    "frame_size = Fs*4\n",
    "hop_size = Fs*2\n",
    "\n",
    "x,y = get_frames(scaled_x, frame_size, hop_size)"
   ]
  },
  {
   "cell_type": "code",
   "execution_count": 9,
   "id": "98617ed8",
   "metadata": {},
   "outputs": [],
   "source": [
    "X_tr, X_te, Y_tr, Y_te = train_test_split(x,y,test_size=0.20, random_state = r_seed, stratify = y)\n",
    "\n",
    "X_tr_samples = X_tr.shape[0]\n",
    "X_te_samples = X_te.shape[0]\n",
    "\n",
    "X_tr = X_tr.reshape(X_tr_samples, 80, 3,1)\n",
    "X_te = X_te.reshape(X_te_samples, 80, 3,1)"
   ]
  },
  {
   "cell_type": "code",
   "execution_count": 31,
   "id": "e1356288",
   "metadata": {
    "scrolled": true
   },
   "outputs": [
    {
     "name": "stdout",
     "output_type": "stream",
     "text": [
      "Model: \"sequential_8\"\n",
      "_________________________________________________________________\n",
      " Layer (type)                Output Shape              Param #   \n",
      "=================================================================\n",
      " conv2d_12 (Conv2D)          (None, 79, 2, 512)        2560      \n",
      "                                                                 \n",
      " dropout_23 (Dropout)        (None, 79, 2, 512)        0         \n",
      "                                                                 \n",
      " conv2d_13 (Conv2D)          (None, 78, 1, 256)        524544    \n",
      "                                                                 \n",
      " dropout_24 (Dropout)        (None, 78, 1, 256)        0         \n",
      "                                                                 \n",
      " flatten_6 (Flatten)         (None, 19968)             0         \n",
      "                                                                 \n",
      " dense_17 (Dense)            (None, 512)               10224128  \n",
      "                                                                 \n",
      " dropout_25 (Dropout)        (None, 512)               0         \n",
      "                                                                 \n",
      " dense_18 (Dense)            (None, 256)               131328    \n",
      "                                                                 \n",
      " dropout_26 (Dropout)        (None, 256)               0         \n",
      "                                                                 \n",
      " dense_19 (Dense)            (None, 18)                4626      \n",
      "                                                                 \n",
      "=================================================================\n",
      "Total params: 10,887,186\n",
      "Trainable params: 10,887,186\n",
      "Non-trainable params: 0\n",
      "_________________________________________________________________\n"
     ]
    }
   ],
   "source": [
    "#CNN\n",
    "model = Sequential()\n",
    "model.add(Conv2D(512, (2,2), activation = 'relu', input_shape = X_tr[0].shape))\n",
    "model.add(Dropout(0.2))\n",
    "\n",
    "model.add(Conv2D(256, (2,2), activation = 'relu'))\n",
    "model.add(Dropout(0.2))\n",
    "\n",
    "model.add(Flatten())\n",
    "\n",
    "model.add(Dense(512, activation = 'relu'))\n",
    "model.add(Dropout(0.2))\n",
    "\n",
    "model.add(Dense(256, activation = 'relu'))\n",
    "model.add(Dropout(0.2))\n",
    "\n",
    "model.add(Dense(18, activation='softmax'))\n",
    "model.summary()\n",
    "model.compile(optimizer=\"Adam\", loss=\"sparse_categorical_crossentropy\", metrics=[\"accuracy\"]) "
   ]
  },
  {
   "cell_type": "code",
   "execution_count": 32,
   "id": "ec8a3b3c",
   "metadata": {
    "scrolled": false
   },
   "outputs": [
    {
     "name": "stdout",
     "output_type": "stream",
     "text": [
      "Epoch 1/20\n",
      "1965/1965 [==============================] - 15s 7ms/step - loss: 1.7587 - accuracy: 0.3744 - val_loss: 1.3452 - val_accuracy: 0.5236\n",
      "Epoch 2/20\n",
      "1965/1965 [==============================] - 14s 7ms/step - loss: 1.2035 - accuracy: 0.5730 - val_loss: 0.9154 - val_accuracy: 0.6740\n",
      "Epoch 3/20\n",
      "1965/1965 [==============================] - 14s 7ms/step - loss: 0.9374 - accuracy: 0.6638 - val_loss: 0.7741 - val_accuracy: 0.7313\n",
      "Epoch 4/20\n",
      "1965/1965 [==============================] - 15s 7ms/step - loss: 0.7988 - accuracy: 0.7134 - val_loss: 0.7200 - val_accuracy: 0.7563\n",
      "Epoch 5/20\n",
      "1965/1965 [==============================] - 14s 7ms/step - loss: 0.7120 - accuracy: 0.7426 - val_loss: 0.6565 - val_accuracy: 0.7725\n",
      "Epoch 6/20\n",
      "1965/1965 [==============================] - 14s 7ms/step - loss: 0.6528 - accuracy: 0.7673 - val_loss: 0.6497 - val_accuracy: 0.7819\n",
      "Epoch 7/20\n",
      "1965/1965 [==============================] - 14s 7ms/step - loss: 0.6044 - accuracy: 0.7829 - val_loss: 0.6383 - val_accuracy: 0.7908\n",
      "Epoch 8/20\n",
      "1965/1965 [==============================] - 14s 7ms/step - loss: 0.5623 - accuracy: 0.7975 - val_loss: 0.6198 - val_accuracy: 0.7950\n",
      "Epoch 9/20\n",
      "1965/1965 [==============================] - 14s 7ms/step - loss: 0.5417 - accuracy: 0.8071 - val_loss: 0.6269 - val_accuracy: 0.7933\n",
      "Epoch 10/20\n",
      "1965/1965 [==============================] - 14s 7ms/step - loss: 0.5143 - accuracy: 0.8171 - val_loss: 0.5977 - val_accuracy: 0.8113\n",
      "Epoch 11/20\n",
      "1965/1965 [==============================] - 14s 7ms/step - loss: 0.4894 - accuracy: 0.8238 - val_loss: 0.6250 - val_accuracy: 0.8052\n",
      "Epoch 12/20\n",
      "1965/1965 [==============================] - 14s 7ms/step - loss: 0.4709 - accuracy: 0.8308 - val_loss: 0.5676 - val_accuracy: 0.8308\n",
      "Epoch 13/20\n",
      "1965/1965 [==============================] - 14s 7ms/step - loss: 0.4553 - accuracy: 0.8364 - val_loss: 0.6054 - val_accuracy: 0.8267\n",
      "Epoch 14/20\n",
      "1965/1965 [==============================] - 14s 7ms/step - loss: 0.4496 - accuracy: 0.8384 - val_loss: 0.5973 - val_accuracy: 0.8211\n",
      "Epoch 15/20\n",
      "1965/1965 [==============================] - 14s 7ms/step - loss: 0.4289 - accuracy: 0.8471 - val_loss: 0.5850 - val_accuracy: 0.8216\n",
      "Epoch 16/20\n",
      "1965/1965 [==============================] - 14s 7ms/step - loss: 0.4202 - accuracy: 0.8514 - val_loss: 0.5980 - val_accuracy: 0.8197\n",
      "Epoch 17/20\n",
      "1965/1965 [==============================] - 14s 7ms/step - loss: 0.4125 - accuracy: 0.8514 - val_loss: 0.6169 - val_accuracy: 0.8225\n",
      "Epoch 18/20\n",
      "1965/1965 [==============================] - 15s 7ms/step - loss: 0.4058 - accuracy: 0.8566 - val_loss: 0.5832 - val_accuracy: 0.8298\n",
      "Epoch 19/20\n",
      "1965/1965 [==============================] - 15s 7ms/step - loss: 0.3943 - accuracy: 0.8592 - val_loss: 0.5982 - val_accuracy: 0.8234\n",
      "Epoch 20/20\n",
      "1965/1965 [==============================] - 15s 7ms/step - loss: 0.3903 - accuracy: 0.8608 - val_loss: 0.5918 - val_accuracy: 0.8343\n"
     ]
    }
   ],
   "source": [
    "history = model.fit(X_tr, Y_tr, epochs = 20, validation_data=(X_te, Y_te), verbose=1 )"
   ]
  },
  {
   "cell_type": "code",
   "execution_count": 34,
   "id": "5e0c2397",
   "metadata": {},
   "outputs": [
    {
     "data": {
      "text/plain": [
       "<matplotlib.legend.Legend at 0x25a9e5b1a00>"
      ]
     },
     "execution_count": 34,
     "metadata": {},
     "output_type": "execute_result"
    },
    {
     "data": {
      "image/png": "[encoded data removed]",
      "text/plain": [
       "<Figure size 936x576 with 1 Axes>"
      ]
     },
     "metadata": {
      "needs_background": "light"
     },
     "output_type": "display_data"
    }
   ],
   "source": [
    "plt.figure(figsize=(13, 8))\n",
    "plt.plot(history.history['loss'], label='train_loss',color='blue')\n",
    "plt.plot(history.history['val_loss'], label='validation_loss',color='orange')\n",
    "plt.plot(history.history['accuracy'], label='train_acc',color='green')\n",
    "plt.plot(history.history['val_accuracy'], label='validation_acc',color='purple')\n",
    "plt.title('Convolutional Neural Network')\n",
    "\n",
    "plt.legend()"
   ]
  },
  {
   "cell_type": "code",
   "execution_count": null,
   "id": "67256d14",
   "metadata": {},
   "outputs": [],
   "source": []
  }
 ],
 "metadata": {
  "kernelspec": {
   "display_name": "Python 3 (ipykernel)",
   "language": "python",
   "name": "python3"
  },
  "language_info": {
   "codemirror_mode": {
    "name": "ipython",
    "version": 3
   },
   "file_extension": ".py",
   "mimetype": "text/x-python",
   "name": "python",
   "nbconvert_exporter": "python",
   "pygments_lexer": "ipython3",
   "version": "3.9.7"
  }
 },
 "nbformat": 4,
 "nbformat_minor": 5
}
